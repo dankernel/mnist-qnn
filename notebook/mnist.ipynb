{
  "nbformat": 4,
  "nbformat_minor": 0,
  "metadata": {
    "colab": {
      "name": "mnist.ipynb",
      "provenance": [],
      "collapsed_sections": [],
      "authorship_tag": "ABX9TyMpm601Xabtbqx9UwWFNqss",
      "include_colab_link": true
    },
    "kernelspec": {
      "name": "python3",
      "display_name": "Python 3"
    },
    "language_info": {
      "name": "python"
    },
    "accelerator": "GPU"
  },
  "cells": [
    {
      "cell_type": "markdown",
      "metadata": {
        "id": "view-in-github",
        "colab_type": "text"
      },
      "source": [
        "<a href=\"https://colab.research.google.com/github/dankernel/mnist-qnn/blob/main/notebook/mnist.ipynb\" target=\"_parent\"><img src=\"https://colab.research.google.com/assets/colab-badge.svg\" alt=\"Open In Colab\"/></a>"
      ]
    },
    {
      "cell_type": "markdown",
      "metadata": {
        "id": "V3jpMYmtoFLL"
      },
      "source": [
        "# MNIST 데이터셋"
      ]
    },
    {
      "cell_type": "code",
      "metadata": {
        "colab": {
          "base_uri": "https://localhost:8080/"
        },
        "id": "DZBMQ4xroDl7",
        "outputId": "f448ee1f-79a0-4cdd-ed7b-87adff1c5d3b"
      },
      "source": [
        "import tensorflow as tf\n",
        "from tensorflow import keras\n",
        "\n",
        "import numpy as np\n",
        "import matplotlib.pyplot as plt\n",
        "\n",
        "print(tf.__version__)"
      ],
      "execution_count": 1,
      "outputs": [
        {
          "output_type": "stream",
          "text": [
            "2.5.0\n"
          ],
          "name": "stdout"
        }
      ]
    },
    {
      "cell_type": "code",
      "metadata": {
        "id": "0Hrpx_kZoG04",
        "colab": {
          "base_uri": "https://localhost:8080/"
        },
        "outputId": "c20e76e5-ad44-443e-984f-32442eb74be7"
      },
      "source": [
        "digit_mnist = keras.datasets.mnist\n",
        "\n",
        "(_train_images, _train_labels), (test_images, test_labels) = digit_mnist.load_data()"
      ],
      "execution_count": 2,
      "outputs": [
        {
          "output_type": "stream",
          "text": [
            "Downloading data from https://storage.googleapis.com/tensorflow/tf-keras-datasets/mnist.npz\n",
            "11493376/11490434 [==============================] - 0s 0us/step\n"
          ],
          "name": "stdout"
        }
      ]
    },
    {
      "cell_type": "code",
      "metadata": {
        "id": "ZyDTpTaKKe0O"
      },
      "source": [
        "train_images = _train_images[:50000]\n",
        "train_labels = _train_labels[:50000]\n",
        "val_images = _train_images[50000:]\n",
        "val_labels = _train_labels[50000:]"
      ],
      "execution_count": 3,
      "outputs": []
    },
    {
      "cell_type": "code",
      "metadata": {
        "id": "5ekzT3sEPmQE",
        "colab": {
          "base_uri": "https://localhost:8080/"
        },
        "outputId": "6812c48a-ac48-450a-ab62-edae6673c72d"
      },
      "source": [
        "train_images[0].shape"
      ],
      "execution_count": 4,
      "outputs": [
        {
          "output_type": "execute_result",
          "data": {
            "text/plain": [
              "(28, 28)"
            ]
          },
          "metadata": {
            "tags": []
          },
          "execution_count": 4
        }
      ]
    },
    {
      "cell_type": "code",
      "metadata": {
        "colab": {
          "base_uri": "https://localhost:8080/",
          "height": 265
        },
        "id": "LEpslwHmosh_",
        "outputId": "a627644b-f2af-47da-fe6b-ba0704a56a00"
      },
      "source": [
        "plt.figure()\n",
        "plt.imshow(train_images[0])\n",
        "plt.colorbar()\n",
        "plt.grid(False)\n",
        "plt.show()"
      ],
      "execution_count": 5,
      "outputs": [
        {
          "output_type": "display_data",
          "data": {
            "image/png": "[encoded data removed]",
            "text/plain": [
              "<Figure size 432x288 with 2 Axes>"
            ]
          },
          "metadata": {
            "tags": [],
            "needs_background": "light"
          }
        }
      ]
    },
    {
      "cell_type": "code",
      "metadata": {
        "id": "41HKTgaYot6M"
      },
      "source": [
        "# train_images = train_images / 255.0\n",
        "# test_images = test_images / 255.0"
      ],
      "execution_count": 6,
      "outputs": []
    },
    {
      "cell_type": "code",
      "metadata": {
        "colab": {
          "base_uri": "https://localhost:8080/",
          "height": 265
        },
        "id": "XtoyqD7CpiP2",
        "outputId": "dd1c3072-8ed0-4953-9c43-5d87d4c3872e"
      },
      "source": [
        "plt.figure()\n",
        "plt.imshow(train_images[0])\n",
        "plt.colorbar()\n",
        "plt.grid(False)\n",
        "plt.show()"
      ],
      "execution_count": 7,
      "outputs": [
        {
          "output_type": "display_data",
          "data": {
            "image/png": "[encoded data removed]",
            "text/plain": [
              "<Figure size 432x288 with 2 Axes>"
            ]
          },
          "metadata": {
            "tags": [],
            "needs_background": "light"
          }
        }
      ]
    },
    {
      "cell_type": "code",
      "metadata": {
        "id": "Y1sR8EKOpizn",
        "colab": {
          "base_uri": "https://localhost:8080/"
        },
        "outputId": "8ca6ac40-31b6-44a0-993a-9d848674b7a7"
      },
      "source": [
        "layer_flatten = keras.layers.Flatten(input_shape=(28, 28))\n",
        "layer_FC1 = keras.layers.Dense(128, activation='relu', use_bias=False)\n",
        "layer_FC2 = keras.layers.Dense(64, activation='relu', use_bias=False)\n",
        "layer_FC3 = keras.layers.Dense(10, activation='softmax', use_bias=False)\n",
        "\n",
        "model = keras.Sequential([\n",
        "    layer_flatten,\n",
        "    layer_FC1,\n",
        "    layer_FC2,\n",
        "    layer_FC3,\n",
        "])\n",
        "model.summary()"
      ],
      "execution_count": 8,
      "outputs": [
        {
          "output_type": "stream",
          "text": [
            "Model: \"sequential\"\n",
            "_________________________________________________________________\n",
            "Layer (type)                 Output Shape              Param #   \n",
            "=================================================================\n",
            "flatten (Flatten)            (None, 784)               0         \n",
            "_________________________________________________________________\n",
            "dense (Dense)                (None, 128)               100352    \n",
            "_________________________________________________________________\n",
            "dense_1 (Dense)              (None, 64)                8192      \n",
            "_________________________________________________________________\n",
            "dense_2 (Dense)              (None, 10)                640       \n",
            "=================================================================\n",
            "Total params: 109,184\n",
            "Trainable params: 109,184\n",
            "Non-trainable params: 0\n",
            "_________________________________________________________________\n"
          ],
          "name": "stdout"
        }
      ]
    },
    {
      "cell_type": "code",
      "metadata": {
        "colab": {
          "base_uri": "https://localhost:8080/",
          "height": 533
        },
        "id": "A6DRnvmbq9f0",
        "outputId": "12a52654-910e-43d3-8dd3-df24da0b1e08"
      },
      "source": [
        "from IPython.display import Image \n",
        "from keras.utils.vis_utils import plot_model\n",
        "\n",
        "tf.keras.utils.plot_model(model, to_file='model.png', show_shapes=True, show_dtype=False, show_layer_names=True)\n",
        "\n",
        "Image('model.png')"
      ],
      "execution_count": 9,
      "outputs": [
        {
          "output_type": "execute_result",
          "data": {
            "image/png": "[encoded data removed]",
            "text/plain": [
              "<IPython.core.display.Image object>"
            ]
          },
          "metadata": {
            "tags": []
          },
          "execution_count": 9
        }
      ]
    },
    {
      "cell_type": "code",
      "metadata": {
        "id": "_IluW2TFp3Dn"
      },
      "source": [
        "model.compile(optimizer='adam',\n",
        "              loss='sparse_categorical_crossentropy',\n",
        "              metrics=['accuracy'])"
      ],
      "execution_count": 10,
      "outputs": []
    },
    {
      "cell_type": "code",
      "metadata": {
        "colab": {
          "base_uri": "https://localhost:8080/"
        },
        "id": "YX4V3IGcp45q",
        "outputId": "7869a39c-13dd-46bd-d7ed-39f5deb45f90"
      },
      "source": [
        "model.fit(train_images, train_labels, epochs=30, validation_data=(train_images, train_labels))"
      ],
      "execution_count": 11,
      "outputs": [
        {
          "output_type": "stream",
          "text": [
            "Epoch 1/30\n",
            "1563/1563 [==============================] - 7s 3ms/step - loss: 2.2172 - accuracy: 0.8587 - val_loss: 0.4421 - val_accuracy: 0.9131\n",
            "Epoch 2/30\n",
            "1563/1563 [==============================] - 5s 3ms/step - loss: 0.3795 - accuracy: 0.9197 - val_loss: 0.2580 - val_accuracy: 0.9367\n",
            "Epoch 3/30\n",
            "1563/1563 [==============================] - 5s 3ms/step - loss: 0.2546 - accuracy: 0.9381 - val_loss: 0.1982 - val_accuracy: 0.9501\n",
            "Epoch 4/30\n",
            "1563/1563 [==============================] - 5s 3ms/step - loss: 0.2083 - accuracy: 0.9467 - val_loss: 0.2077 - val_accuracy: 0.9433\n",
            "Epoch 5/30\n",
            "1563/1563 [==============================] - 4s 3ms/step - loss: 0.1793 - accuracy: 0.9530 - val_loss: 0.1271 - val_accuracy: 0.9633\n",
            "Epoch 6/30\n",
            "1563/1563 [==============================] - 5s 3ms/step - loss: 0.1379 - accuracy: 0.9612 - val_loss: 0.1451 - val_accuracy: 0.9608\n",
            "Epoch 7/30\n",
            "1563/1563 [==============================] - 5s 3ms/step - loss: 0.1284 - accuracy: 0.9647 - val_loss: 0.0947 - val_accuracy: 0.9717\n",
            "Epoch 8/30\n",
            "1563/1563 [==============================] - 4s 3ms/step - loss: 0.1129 - accuracy: 0.9678 - val_loss: 0.1060 - val_accuracy: 0.9685\n",
            "Epoch 9/30\n",
            "1563/1563 [==============================] - 5s 3ms/step - loss: 0.0987 - accuracy: 0.9721 - val_loss: 0.0725 - val_accuracy: 0.9776\n",
            "Epoch 10/30\n",
            "1563/1563 [==============================] - 4s 3ms/step - loss: 0.0951 - accuracy: 0.9738 - val_loss: 0.0701 - val_accuracy: 0.9796\n",
            "Epoch 11/30\n",
            "1563/1563 [==============================] - 4s 3ms/step - loss: 0.0893 - accuracy: 0.9760 - val_loss: 0.0737 - val_accuracy: 0.9788\n",
            "Epoch 12/30\n",
            "1563/1563 [==============================] - 4s 3ms/step - loss: 0.0822 - accuracy: 0.9768 - val_loss: 0.0800 - val_accuracy: 0.9782\n",
            "Epoch 13/30\n",
            "1563/1563 [==============================] - 5s 3ms/step - loss: 0.0775 - accuracy: 0.9787 - val_loss: 0.0887 - val_accuracy: 0.9773\n",
            "Epoch 14/30\n",
            "1563/1563 [==============================] - 5s 3ms/step - loss: 0.0785 - accuracy: 0.9791 - val_loss: 0.0596 - val_accuracy: 0.9824\n",
            "Epoch 15/30\n",
            "1563/1563 [==============================] - 4s 3ms/step - loss: 0.0727 - accuracy: 0.9795 - val_loss: 0.0628 - val_accuracy: 0.9832\n",
            "Epoch 16/30\n",
            "1563/1563 [==============================] - 5s 3ms/step - loss: 0.0646 - accuracy: 0.9832 - val_loss: 0.0691 - val_accuracy: 0.9818\n",
            "Epoch 17/30\n",
            "1563/1563 [==============================] - 5s 3ms/step - loss: 0.0691 - accuracy: 0.9818 - val_loss: 0.0553 - val_accuracy: 0.9838\n",
            "Epoch 18/30\n",
            "1563/1563 [==============================] - 5s 3ms/step - loss: 0.0588 - accuracy: 0.9840 - val_loss: 0.0682 - val_accuracy: 0.9823\n",
            "Epoch 19/30\n",
            "1563/1563 [==============================] - 4s 3ms/step - loss: 0.0608 - accuracy: 0.9846 - val_loss: 0.0430 - val_accuracy: 0.9883\n",
            "Epoch 20/30\n",
            "1563/1563 [==============================] - 4s 3ms/step - loss: 0.0566 - accuracy: 0.9853 - val_loss: 0.0453 - val_accuracy: 0.9877\n",
            "Epoch 21/30\n",
            "1563/1563 [==============================] - 5s 3ms/step - loss: 0.0563 - accuracy: 0.9852 - val_loss: 0.0519 - val_accuracy: 0.9864\n",
            "Epoch 22/30\n",
            "1563/1563 [==============================] - 4s 3ms/step - loss: 0.0531 - accuracy: 0.9861 - val_loss: 0.0408 - val_accuracy: 0.9881\n",
            "Epoch 23/30\n",
            "1563/1563 [==============================] - 5s 3ms/step - loss: 0.0531 - accuracy: 0.9863 - val_loss: 0.0531 - val_accuracy: 0.9856\n",
            "Epoch 24/30\n",
            "1563/1563 [==============================] - 5s 3ms/step - loss: 0.0499 - accuracy: 0.9872 - val_loss: 0.0677 - val_accuracy: 0.9844\n",
            "Epoch 25/30\n",
            "1563/1563 [==============================] - 5s 3ms/step - loss: 0.0565 - accuracy: 0.9873 - val_loss: 0.0502 - val_accuracy: 0.9870\n",
            "Epoch 26/30\n",
            "1563/1563 [==============================] - 4s 3ms/step - loss: 0.0494 - accuracy: 0.9880 - val_loss: 0.0395 - val_accuracy: 0.9894\n",
            "Epoch 27/30\n",
            "1563/1563 [==============================] - 4s 3ms/step - loss: 0.0493 - accuracy: 0.9877 - val_loss: 0.0290 - val_accuracy: 0.9920\n",
            "Epoch 28/30\n",
            "1563/1563 [==============================] - 5s 3ms/step - loss: 0.0488 - accuracy: 0.9885 - val_loss: 0.0337 - val_accuracy: 0.9917\n",
            "Epoch 29/30\n",
            "1563/1563 [==============================] - 5s 3ms/step - loss: 0.0503 - accuracy: 0.9891 - val_loss: 0.0460 - val_accuracy: 0.9897\n",
            "Epoch 30/30\n",
            "1563/1563 [==============================] - 4s 3ms/step - loss: 0.0488 - accuracy: 0.9881 - val_loss: 0.0316 - val_accuracy: 0.9917\n"
          ],
          "name": "stdout"
        },
        {
          "output_type": "execute_result",
          "data": {
            "text/plain": [
              "<tensorflow.python.keras.callbacks.History at 0x7f121a51fe90>"
            ]
          },
          "metadata": {
            "tags": []
          },
          "execution_count": 11
        }
      ]
    },
    {
      "cell_type": "code",
      "metadata": {
        "colab": {
          "base_uri": "https://localhost:8080/"
        },
        "id": "a7yreL4Mp6Zt",
        "outputId": "6a0e45cd-0063-4d9b-d9db-0fba4a606a1f"
      },
      "source": [
        "test_loss, test_acc = model.evaluate(test_images,  test_labels, verbose=2)\n",
        "\n",
        "print('\\n테스트 정확도:', test_acc)"
      ],
      "execution_count": 12,
      "outputs": [
        {
          "output_type": "stream",
          "text": [
            "313/313 - 0s - loss: 0.2019 - accuracy: 0.9701\n",
            "\n",
            "테스트 정확도: 0.9700999855995178\n"
          ],
          "name": "stdout"
        }
      ]
    },
    {
      "cell_type": "code",
      "metadata": {
        "colab": {
          "base_uri": "https://localhost:8080/",
          "height": 265
        },
        "id": "i-U5AYk_S6d6",
        "outputId": "a59a2f09-2f83-4696-882f-4eaf89e96c3a"
      },
      "source": [
        "plt.figure()\n",
        "plt.imshow(test_images[0])\n",
        "plt.colorbar()\n",
        "plt.grid(False)\n",
        "plt.show()"
      ],
      "execution_count": 13,
      "outputs": [
        {
          "output_type": "display_data",
          "data": {
            "image/png": "[encoded data removed]",
            "text/plain": [
              "<Figure size 432x288 with 2 Axes>"
            ]
          },
          "metadata": {
            "tags": [],
            "needs_background": "light"
          }
        }
      ]
    },
    {
      "cell_type": "code",
      "metadata": {
        "id": "c6BzZrYdqAi6",
        "colab": {
          "base_uri": "https://localhost:8080/"
        },
        "outputId": "9c8f6508-f63d-4d3a-a431-08d99c67d59f"
      },
      "source": [
        "predictions = model.predict(test_images[:1, :, :])\n",
        "print(predictions)"
      ],
      "execution_count": 14,
      "outputs": [
        {
          "output_type": "stream",
          "text": [
            "[[1.09490902e-10 6.08600355e-14 1.58442717e-08 4.63801358e-10\n",
            "  1.00404744e-14 2.53800410e-12 9.35161070e-38 9.99995232e-01\n",
            "  5.82893705e-13 4.72795728e-06]]\n"
          ],
          "name": "stdout"
        }
      ]
    },
    {
      "cell_type": "code",
      "metadata": {
        "colab": {
          "base_uri": "https://localhost:8080/"
        },
        "id": "cSmLyny8SIA5",
        "outputId": "3bb2be01-e344-4c39-c52c-1c8404bf61c8"
      },
      "source": [
        "np.argmax(predictions)"
      ],
      "execution_count": 15,
      "outputs": [
        {
          "output_type": "execute_result",
          "data": {
            "text/plain": [
              "7"
            ]
          },
          "metadata": {
            "tags": []
          },
          "execution_count": 15
        }
      ]
    },
    {
      "cell_type": "code",
      "metadata": {
        "colab": {
          "base_uri": "https://localhost:8080/"
        },
        "id": "DJra-lyue1RW",
        "outputId": "482946fe-f38a-4c73-9374-71a0ae35448f"
      },
      "source": [
        "print(test_images[0, :, :].shape)"
      ],
      "execution_count": 16,
      "outputs": [
        {
          "output_type": "stream",
          "text": [
            "(28, 28)\n"
          ],
          "name": "stdout"
        }
      ]
    },
    {
      "cell_type": "code",
      "metadata": {
        "id": "2E6-RYpbAoE-",
        "colab": {
          "base_uri": "https://localhost:8080/"
        },
        "outputId": "c4a1944d-f619-483c-df23-b5a43cf8e556"
      },
      "source": [
        "! pip install tensorflow_model_optimization"
      ],
      "execution_count": 17,
      "outputs": [
        {
          "output_type": "stream",
          "text": [
            "Collecting tensorflow_model_optimization\n",
            "\u001b[?25l  Downloading https://files.pythonhosted.org/packages/78/8f/f6969dc64709c5c5e22cfd7057a83adbc927e6855a431b234168222cbf03/tensorflow_model_optimization-0.6.0-py2.py3-none-any.whl (211kB)\n",
            "\r\u001b[K     |█▌                              | 10kB 22.3MB/s eta 0:00:01\r\u001b[K     |███                             | 20kB 27.6MB/s eta 0:00:01\r\u001b[K     |████▋                           | 30kB 18.4MB/s eta 0:00:01\r\u001b[K     |██████▏                         | 40kB 16.1MB/s eta 0:00:01\r\u001b[K     |███████▊                        | 51kB 9.4MB/s eta 0:00:01\r\u001b[K     |█████████▎                      | 61kB 9.7MB/s eta 0:00:01\r\u001b[K     |██████████▉                     | 71kB 9.2MB/s eta 0:00:01\r\u001b[K     |████████████▍                   | 81kB 10.2MB/s eta 0:00:01\r\u001b[K     |██████████████                  | 92kB 11.0MB/s eta 0:00:01\r\u001b[K     |███████████████▌                | 102kB 9.2MB/s eta 0:00:01\r\u001b[K     |█████████████████               | 112kB 9.2MB/s eta 0:00:01\r\u001b[K     |██████████████████▋             | 122kB 9.2MB/s eta 0:00:01\r\u001b[K     |████████████████████▏           | 133kB 9.2MB/s eta 0:00:01\r\u001b[K     |█████████████████████▊          | 143kB 9.2MB/s eta 0:00:01\r\u001b[K     |███████████████████████▎        | 153kB 9.2MB/s eta 0:00:01\r\u001b[K     |████████████████████████▉       | 163kB 9.2MB/s eta 0:00:01\r\u001b[K     |██████████████████████████▍     | 174kB 9.2MB/s eta 0:00:01\r\u001b[K     |████████████████████████████    | 184kB 9.2MB/s eta 0:00:01\r\u001b[K     |█████████████████████████████▌  | 194kB 9.2MB/s eta 0:00:01\r\u001b[K     |███████████████████████████████ | 204kB 9.2MB/s eta 0:00:01\r\u001b[K     |████████████████████████████████| 215kB 9.2MB/s \n",
            "\u001b[?25hRequirement already satisfied: six~=1.10 in /usr/local/lib/python3.7/dist-packages (from tensorflow_model_optimization) (1.15.0)\n",
            "Requirement already satisfied: dm-tree~=0.1.1 in /usr/local/lib/python3.7/dist-packages (from tensorflow_model_optimization) (0.1.6)\n",
            "Requirement already satisfied: numpy~=1.14 in /usr/local/lib/python3.7/dist-packages (from tensorflow_model_optimization) (1.19.5)\n",
            "Installing collected packages: tensorflow-model-optimization\n",
            "Successfully installed tensorflow-model-optimization-0.6.0\n"
          ],
          "name": "stdout"
        }
      ]
    },
    {
      "cell_type": "code",
      "metadata": {
        "colab": {
          "base_uri": "https://localhost:8080/"
        },
        "id": "6a1i472NSuXy",
        "outputId": "6732fddf-4694-405e-c2da-d58326a20e09"
      },
      "source": [
        "import tensorflow_model_optimization as tfmot\n",
        "\n",
        "quantize_model = tfmot.quantization.keras.quantize_model\n",
        "\n",
        "# q_aware stands for for quantization aware.\n",
        "q_aware_model = quantize_model(model)\n",
        "\n",
        "# `quantize_model` requires a recompile.\n",
        "q_aware_model.compile(optimizer='adam',\n",
        "              loss=tf.keras.losses.SparseCategoricalCrossentropy(from_logits=True),\n",
        "              metrics=['accuracy'])\n",
        "\n",
        "q_aware_model.summary()"
      ],
      "execution_count": 18,
      "outputs": [
        {
          "output_type": "stream",
          "text": [
            "Model: \"sequential\"\n",
            "_________________________________________________________________\n",
            "Layer (type)                 Output Shape              Param #   \n",
            "=================================================================\n",
            "quantize_layer (QuantizeLaye (None, 28, 28)            3         \n",
            "_________________________________________________________________\n",
            "quant_flatten (QuantizeWrapp (None, 784)               1         \n",
            "_________________________________________________________________\n",
            "quant_dense (QuantizeWrapper (None, 128)               100357    \n",
            "_________________________________________________________________\n",
            "quant_dense_1 (QuantizeWrapp (None, 64)                8197      \n",
            "_________________________________________________________________\n",
            "quant_dense_2 (QuantizeWrapp (None, 10)                645       \n",
            "=================================================================\n",
            "Total params: 109,203\n",
            "Trainable params: 109,184\n",
            "Non-trainable params: 19\n",
            "_________________________________________________________________\n"
          ],
          "name": "stdout"
        }
      ]
    },
    {
      "cell_type": "code",
      "metadata": {
        "colab": {
          "base_uri": "https://localhost:8080/"
        },
        "id": "Dles7viUSvfF",
        "outputId": "6fff19a6-dfa3-4713-f83d-148fe4b33ac7"
      },
      "source": [
        "train_images_subset = train_images\n",
        "train_labels_subset = train_labels\n",
        "\n",
        "q_aware_model.fit(train_images_subset, train_labels_subset,\n",
        "                  batch_size=500, epochs=30, validation_split=0.1)"
      ],
      "execution_count": 19,
      "outputs": [
        {
          "output_type": "stream",
          "text": [
            "Epoch 1/30\n"
          ],
          "name": "stdout"
        },
        {
          "output_type": "stream",
          "text": [
            "/usr/local/lib/python3.7/dist-packages/tensorflow/python/keras/backend.py:4930: UserWarning: \"`sparse_categorical_crossentropy` received `from_logits=True`, but the `output` argument was produced by a sigmoid or softmax activation and thus does not represent logits. Was this intended?\"\n",
            "  '\"`sparse_categorical_crossentropy` received `from_logits=True`, but '\n"
          ],
          "name": "stderr"
        },
        {
          "output_type": "stream",
          "text": [
            "90/90 [==============================] - 1s 5ms/step - loss: 0.4180 - accuracy: 0.9213 - val_loss: 0.1371 - val_accuracy: 0.9586\n",
            "Epoch 2/30\n",
            "90/90 [==============================] - 0s 3ms/step - loss: 0.0735 - accuracy: 0.9798 - val_loss: 0.0594 - val_accuracy: 0.9846\n",
            "Epoch 3/30\n",
            "90/90 [==============================] - 0s 3ms/step - loss: 0.0307 - accuracy: 0.9921 - val_loss: 0.0370 - val_accuracy: 0.9922\n",
            "Epoch 4/30\n",
            "90/90 [==============================] - 0s 3ms/step - loss: 0.0203 - accuracy: 0.9951 - val_loss: 0.0258 - val_accuracy: 0.9938\n",
            "Epoch 5/30\n",
            "90/90 [==============================] - 0s 3ms/step - loss: 0.0122 - accuracy: 0.9964 - val_loss: 0.0281 - val_accuracy: 0.9928\n",
            "Epoch 6/30\n",
            "90/90 [==============================] - 0s 3ms/step - loss: 0.0107 - accuracy: 0.9967 - val_loss: 0.0277 - val_accuracy: 0.9934\n",
            "Epoch 7/30\n",
            "90/90 [==============================] - 0s 3ms/step - loss: 0.0102 - accuracy: 0.9969 - val_loss: 0.0323 - val_accuracy: 0.9942\n",
            "Epoch 8/30\n",
            "90/90 [==============================] - 0s 3ms/step - loss: 0.0086 - accuracy: 0.9971 - val_loss: 0.0303 - val_accuracy: 0.9936\n",
            "Epoch 9/30\n",
            "90/90 [==============================] - 0s 3ms/step - loss: 0.0076 - accuracy: 0.9974 - val_loss: 0.0356 - val_accuracy: 0.9918\n",
            "Epoch 10/30\n",
            "90/90 [==============================] - 0s 3ms/step - loss: 0.0075 - accuracy: 0.9976 - val_loss: 0.0314 - val_accuracy: 0.9938\n",
            "Epoch 11/30\n",
            "90/90 [==============================] - 0s 4ms/step - loss: 0.0061 - accuracy: 0.9978 - val_loss: 0.0335 - val_accuracy: 0.9918\n",
            "Epoch 12/30\n",
            "90/90 [==============================] - 0s 4ms/step - loss: 0.0057 - accuracy: 0.9980 - val_loss: 0.0345 - val_accuracy: 0.9922\n",
            "Epoch 13/30\n",
            "90/90 [==============================] - 0s 4ms/step - loss: 0.0056 - accuracy: 0.9980 - val_loss: 0.0447 - val_accuracy: 0.9924\n",
            "Epoch 14/30\n",
            "90/90 [==============================] - 0s 3ms/step - loss: 0.0059 - accuracy: 0.9979 - val_loss: 0.0380 - val_accuracy: 0.9928\n",
            "Epoch 15/30\n",
            "90/90 [==============================] - 0s 3ms/step - loss: 0.0059 - accuracy: 0.9979 - val_loss: 0.0371 - val_accuracy: 0.9930\n",
            "Epoch 16/30\n",
            "90/90 [==============================] - 0s 3ms/step - loss: 0.0069 - accuracy: 0.9978 - val_loss: 0.0484 - val_accuracy: 0.9914\n",
            "Epoch 17/30\n",
            "90/90 [==============================] - 0s 3ms/step - loss: 0.0084 - accuracy: 0.9974 - val_loss: 0.0561 - val_accuracy: 0.9912\n",
            "Epoch 18/30\n",
            "90/90 [==============================] - 0s 3ms/step - loss: 0.0126 - accuracy: 0.9965 - val_loss: 0.0544 - val_accuracy: 0.9902\n",
            "Epoch 19/30\n",
            "90/90 [==============================] - 0s 3ms/step - loss: 0.0166 - accuracy: 0.9956 - val_loss: 0.0673 - val_accuracy: 0.9882\n",
            "Epoch 20/30\n",
            "90/90 [==============================] - 0s 3ms/step - loss: 0.0133 - accuracy: 0.9963 - val_loss: 0.0579 - val_accuracy: 0.9904\n",
            "Epoch 21/30\n",
            "90/90 [==============================] - 0s 3ms/step - loss: 0.0103 - accuracy: 0.9968 - val_loss: 0.0593 - val_accuracy: 0.9920\n",
            "Epoch 22/30\n",
            "90/90 [==============================] - 0s 3ms/step - loss: 0.0069 - accuracy: 0.9976 - val_loss: 0.0528 - val_accuracy: 0.9922\n",
            "Epoch 23/30\n",
            "90/90 [==============================] - 0s 3ms/step - loss: 0.0064 - accuracy: 0.9975 - val_loss: 0.0515 - val_accuracy: 0.9934\n",
            "Epoch 24/30\n",
            "90/90 [==============================] - 0s 3ms/step - loss: 0.0072 - accuracy: 0.9975 - val_loss: 0.0474 - val_accuracy: 0.9934\n",
            "Epoch 25/30\n",
            "90/90 [==============================] - 0s 3ms/step - loss: 0.0081 - accuracy: 0.9975 - val_loss: 0.0564 - val_accuracy: 0.9920\n",
            "Epoch 26/30\n",
            "90/90 [==============================] - 0s 3ms/step - loss: 0.0096 - accuracy: 0.9972 - val_loss: 0.0653 - val_accuracy: 0.9918\n",
            "Epoch 27/30\n",
            "90/90 [==============================] - 0s 4ms/step - loss: 0.0088 - accuracy: 0.9970 - val_loss: 0.0795 - val_accuracy: 0.9902\n",
            "Epoch 28/30\n",
            "90/90 [==============================] - 0s 3ms/step - loss: 0.0083 - accuracy: 0.9974 - val_loss: 0.0559 - val_accuracy: 0.9932\n",
            "Epoch 29/30\n",
            "90/90 [==============================] - 0s 4ms/step - loss: 0.0061 - accuracy: 0.9978 - val_loss: 0.0575 - val_accuracy: 0.9914\n",
            "Epoch 30/30\n",
            "90/90 [==============================] - 0s 3ms/step - loss: 0.0060 - accuracy: 0.9980 - val_loss: 0.0562 - val_accuracy: 0.9918\n"
          ],
          "name": "stdout"
        },
        {
          "output_type": "execute_result",
          "data": {
            "text/plain": [
              "<tensorflow.python.keras.callbacks.History at 0x7f126e954790>"
            ]
          },
          "metadata": {
            "tags": []
          },
          "execution_count": 19
        }
      ]
    },
    {
      "cell_type": "code",
      "metadata": {
        "colab": {
          "base_uri": "https://localhost:8080/"
        },
        "id": "sCj1ehQ5TDnI",
        "outputId": "b9a5d409-b06b-4bf7-b0eb-874b51ad28ae"
      },
      "source": [
        "_, baseline_model_accuracy = model.evaluate(\n",
        "    test_images, test_labels, verbose=0)\n",
        "\n",
        "_, q_aware_model_accuracy = q_aware_model.evaluate(\n",
        "   test_images, test_labels, verbose=0)\n",
        "\n",
        "print('Baseline test accuracy:', baseline_model_accuracy)\n",
        "print('Quant test accuracy:', q_aware_model_accuracy)"
      ],
      "execution_count": 20,
      "outputs": [
        {
          "output_type": "stream",
          "text": [
            "/usr/local/lib/python3.7/dist-packages/tensorflow/python/keras/backend.py:4930: UserWarning: \"`sparse_categorical_crossentropy` received `from_logits=True`, but the `output` argument was produced by a sigmoid or softmax activation and thus does not represent logits. Was this intended?\"\n",
            "  '\"`sparse_categorical_crossentropy` received `from_logits=True`, but '\n"
          ],
          "name": "stderr"
        },
        {
          "output_type": "stream",
          "text": [
            "Baseline test accuracy: 0.9700999855995178\n",
            "Quant test accuracy: 0.9740999937057495\n"
          ],
          "name": "stdout"
        }
      ]
    },
    {
      "cell_type": "code",
      "metadata": {
        "colab": {
          "base_uri": "https://localhost:8080/"
        },
        "id": "54_1L667TI8H",
        "outputId": "876b3126-86fb-4efd-8ce2-d2f9e788a9f6"
      },
      "source": [
        "converter = tf.lite.TFLiteConverter.from_keras_model(q_aware_model)\n",
        "converter.optimizations = [tf.lite.Optimize.DEFAULT]\n",
        "quantized_tflite_model = converter.convert()"
      ],
      "execution_count": 22,
      "outputs": [
        {
          "output_type": "stream",
          "text": [
            "WARNING:absl:Found untraced functions such as flatten_layer_call_and_return_conditional_losses, flatten_layer_call_fn, dense_layer_call_and_return_conditional_losses, dense_layer_call_fn, dense_1_layer_call_and_return_conditional_losses while saving (showing 5 of 20). These functions will not be directly callable after loading.\n"
          ],
          "name": "stderr"
        },
        {
          "output_type": "stream",
          "text": [
            "INFO:tensorflow:Assets written to: /tmp/tmp03yp6blh/assets\n"
          ],
          "name": "stdout"
        },
        {
          "output_type": "stream",
          "text": [
            "INFO:tensorflow:Assets written to: /tmp/tmp03yp6blh/assets\n"
          ],
          "name": "stderr"
        }
      ]
    },
    {
      "cell_type": "code",
      "metadata": {
        "id": "MVvdZPFpTPOB"
      },
      "source": [
        "f = open(\"mnist_dkdk_20170705_no_bias_v1.tflite\", \"wb\")\n",
        "f.write(quantized_tflite_model)\n",
        "f.close()"
      ],
      "execution_count": 24,
      "outputs": []
    },
    {
      "cell_type": "code",
      "metadata": {
        "colab": {
          "base_uri": "https://localhost:8080/",
          "height": 265
        },
        "id": "pHGuO1B9eJif",
        "outputId": "57b9ffa0-66e1-4c8d-847c-771b0f58acc6"
      },
      "source": [
        "import cv2\n",
        "inp = cv2.imread('1.png', cv2.IMREAD_GRAYSCALE)\n",
        "inp = inp.reshape(28, 28)\n",
        "plt.figure()\n",
        "plt.imshow(inp)\n",
        "plt.colorbar()\n",
        "plt.grid(False)\n",
        "plt.show()"
      ],
      "execution_count": 28,
      "outputs": [
        {
          "output_type": "display_data",
          "data": {
            "image/png": "[encoded data removed]",
            "text/plain": [
              "<Figure size 432x288 with 2 Axes>"
            ]
          },
          "metadata": {
            "tags": [],
            "needs_background": "light"
          }
        }
      ]
    },
    {
      "cell_type": "code",
      "metadata": {
        "id": "e3V4nkTwU504",
        "colab": {
          "base_uri": "https://localhost:8080/"
        },
        "outputId": "5fd1f9cd-fa21-4667-e8f7-91b1cf7fe7d0"
      },
      "source": [
        "predictions = q_aware_model.predict(inp.reshape(1, 28, 28))\n",
        "# predictions = model.predict(inp.reshape(1, 28, 28))\n",
        "\n",
        "print(predictions)\n",
        "print(np.argmax(predictions))"
      ],
      "execution_count": 29,
      "outputs": [
        {
          "output_type": "stream",
          "text": [
            "[[0.0000000e+00 1.0000000e+00 8.1749467e-30 0.0000000e+00 1.1690813e-25\n",
            "  6.8360474e-32 5.7164336e-34 9.7760820e-28 1.1690813e-25 0.0000000e+00]]\n",
            "1\n"
          ],
          "name": "stdout"
        }
      ]
    },
    {
      "cell_type": "code",
      "metadata": {
        "id": "lCjbqBvv4E0F"
      },
      "source": [
        ""
      ],
      "execution_count": null,
      "outputs": []
    },
    {
      "cell_type": "code",
      "metadata": {
        "id": "617CEDpMPsot"
      },
      "source": [
        "# print(inp.reshape(-1))"
      ],
      "execution_count": null,
      "outputs": []
    },
    {
      "cell_type": "code",
      "metadata": {
        "colab": {
          "base_uri": "https://localhost:8080/"
        },
        "id": "3XiunR-CfNej",
        "outputId": "5344b517-1bb0-499b-e932-68896f0a78ca"
      },
      "source": [
        "predictions = model.predict(inp.reshape(1, 28, 28))\n",
        "print(predictions)\n",
        "print(np.argmax(predictions))"
      ],
      "execution_count": null,
      "outputs": [
        {
          "output_type": "stream",
          "text": [
            "[[1.83323969e-34 1.01800609e-21 1.13914654e-23 1.37730280e-27\n",
            "  1.00000000e+00 1.70167550e-28 2.32253749e-35 2.73914225e-11\n",
            "  7.61927222e-24 2.31235387e-12]]\n",
            "4\n"
          ],
          "name": "stdout"
        }
      ]
    },
    {
      "cell_type": "code",
      "metadata": {
        "id": "WUfs04CWM2Wl"
      },
      "source": [
        ""
      ],
      "execution_count": 29,
      "outputs": []
    },
    {
      "cell_type": "code",
      "metadata": {
        "id": "MMDosQh5kS9Z"
      },
      "source": [
        ""
      ],
      "execution_count": null,
      "outputs": []
    }
  ]
}