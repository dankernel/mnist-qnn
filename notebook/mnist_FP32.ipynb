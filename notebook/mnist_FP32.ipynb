{
  "nbformat": 4,
  "nbformat_minor": 0,
  "metadata": {
    "colab": {
      "name": "mnist_FP32.ipynb",
      "provenance": [],
      "collapsed_sections": []
    },
    "kernelspec": {
      "name": "python3",
      "display_name": "Python 3"
    },
    "language_info": {
      "name": "python"
    },
    "accelerator": "GPU"
  },
  "cells": [
    {
      "cell_type": "markdown",
      "metadata": {
        "id": "V3jpMYmtoFLL"
      },
      "source": [
        "# MNIST 데이터셋"
      ]
    },
    {
      "cell_type": "code",
      "metadata": {
        "colab": {
          "base_uri": "https://localhost:8080/"
        },
        "id": "DZBMQ4xroDl7",
        "outputId": "a63c189c-ff18-4dd6-db1e-c3ea8d94f3c9"
      },
      "source": [
        "import tensorflow as tf\n",
        "from tensorflow import keras\n",
        "\n",
        "import numpy as np\n",
        "import matplotlib.pyplot as plt\n",
        "\n",
        "print(tf.__version__)"
      ],
      "execution_count": 1,
      "outputs": [
        {
          "output_type": "stream",
          "text": [
            "2.5.0\n"
          ],
          "name": "stdout"
        }
      ]
    },
    {
      "cell_type": "code",
      "metadata": {
        "id": "0Hrpx_kZoG04",
        "colab": {
          "base_uri": "https://localhost:8080/"
        },
        "outputId": "a2ea1f6f-d218-43be-ace9-7dc4e225aaf5"
      },
      "source": [
        "digit_mnist = keras.datasets.mnist\n",
        "\n",
        "(_train_images, _train_labels), (test_images, test_labels) = digit_mnist.load_data()"
      ],
      "execution_count": 2,
      "outputs": [
        {
          "output_type": "stream",
          "text": [
            "Downloading data from https://storage.googleapis.com/tensorflow/tf-keras-datasets/mnist.npz\n",
            "11493376/11490434 [==============================] - 0s 0us/step\n"
          ],
          "name": "stdout"
        }
      ]
    },
    {
      "cell_type": "code",
      "metadata": {
        "id": "ZyDTpTaKKe0O"
      },
      "source": [
        "train_images = _train_images[:50000]\n",
        "train_labels = _train_labels[:50000]\n",
        "val_images = _train_images[50000:]\n",
        "val_labels = _train_labels[50000:]"
      ],
      "execution_count": 3,
      "outputs": []
    },
    {
      "cell_type": "code",
      "metadata": {
        "id": "5ekzT3sEPmQE",
        "colab": {
          "base_uri": "https://localhost:8080/"
        },
        "outputId": "2bfaf5a3-6afc-4391-c431-c6579e0b4335"
      },
      "source": [
        "train_images[0].shape"
      ],
      "execution_count": 4,
      "outputs": [
        {
          "output_type": "execute_result",
          "data": {
            "text/plain": [
              "(28, 28)"
            ]
          },
          "metadata": {
            "tags": []
          },
          "execution_count": 4
        }
      ]
    },
    {
      "cell_type": "code",
      "metadata": {
        "colab": {
          "base_uri": "https://localhost:8080/",
          "height": 265
        },
        "id": "LEpslwHmosh_",
        "outputId": "c586ff87-15d6-4e8b-a36b-feacdcd4d354"
      },
      "source": [
        "plt.figure()\n",
        "plt.imshow(train_images[0])\n",
        "plt.colorbar()\n",
        "plt.grid(False)\n",
        "plt.show()"
      ],
      "execution_count": 5,
      "outputs": [
        {
          "output_type": "display_data",
          "data": {
            "image/png": "[encoded data removed]",
            "text/plain": [
              "<Figure size 432x288 with 2 Axes>"
            ]
          },
          "metadata": {
            "tags": [],
            "needs_background": "light"
          }
        }
      ]
    },
    {
      "cell_type": "code",
      "metadata": {
        "id": "41HKTgaYot6M"
      },
      "source": [
        "# train_images = train_images / 255.0\n",
        "# test_images = test_images / 255.0"
      ],
      "execution_count": null,
      "outputs": []
    },
    {
      "cell_type": "code",
      "metadata": {
        "colab": {
          "base_uri": "https://localhost:8080/",
          "height": 265
        },
        "id": "XtoyqD7CpiP2",
        "outputId": "be06b239-fb07-480f-9d95-0482224c11e9"
      },
      "source": [
        "plt.figure()\n",
        "plt.imshow(train_images[0])\n",
        "plt.colorbar()\n",
        "plt.grid(False)\n",
        "plt.show()"
      ],
      "execution_count": 6,
      "outputs": [
        {
          "output_type": "display_data",
          "data": {
            "image/png": "[encoded data removed]",
            "text/plain": [
              "<Figure size 432x288 with 2 Axes>"
            ]
          },
          "metadata": {
            "tags": [],
            "needs_background": "light"
          }
        }
      ]
    },
    {
      "cell_type": "code",
      "metadata": {
        "id": "Y1sR8EKOpizn",
        "colab": {
          "base_uri": "https://localhost:8080/"
        },
        "outputId": "d5e60e80-25cc-443a-c00f-32490c038f69"
      },
      "source": [
        "layer_flatten = keras.layers.Flatten(input_shape=(28, 28))\n",
        "layer_FC1 = keras.layers.Dense(128, activation='relu', use_bias=False)\n",
        "layer_FC2 = keras.layers.Dense(64, activation='relu', use_bias=False)\n",
        "layer_FC3 = keras.layers.Dense(10, activation='softmax', use_bias=False)\n",
        "\n",
        "model = keras.Sequential([\n",
        "    layer_flatten,\n",
        "    layer_FC1,\n",
        "    layer_FC2,\n",
        "    layer_FC3,\n",
        "])\n",
        "model.summary()"
      ],
      "execution_count": 7,
      "outputs": [
        {
          "output_type": "stream",
          "text": [
            "Model: \"sequential\"\n",
            "_________________________________________________________________\n",
            "Layer (type)                 Output Shape              Param #   \n",
            "=================================================================\n",
            "flatten (Flatten)            (None, 784)               0         \n",
            "_________________________________________________________________\n",
            "dense (Dense)                (None, 128)               100352    \n",
            "_________________________________________________________________\n",
            "dense_1 (Dense)              (None, 64)                8192      \n",
            "_________________________________________________________________\n",
            "dense_2 (Dense)              (None, 10)                640       \n",
            "=================================================================\n",
            "Total params: 109,184\n",
            "Trainable params: 109,184\n",
            "Non-trainable params: 0\n",
            "_________________________________________________________________\n"
          ],
          "name": "stdout"
        }
      ]
    },
    {
      "cell_type": "code",
      "metadata": {
        "colab": {
          "base_uri": "https://localhost:8080/",
          "height": 533
        },
        "id": "A6DRnvmbq9f0",
        "outputId": "80d0ccca-c761-4e7a-f40b-5b0a08e1fec4"
      },
      "source": [
        "from IPython.display import Image \n",
        "from keras.utils.vis_utils import plot_model\n",
        "\n",
        "tf.keras.utils.plot_model(model, to_file='model.png', show_shapes=True, show_dtype=False, show_layer_names=True)\n",
        "\n",
        "Image('model.png')"
      ],
      "execution_count": 8,
      "outputs": [
        {
          "output_type": "execute_result",
          "data": {
            "image/png": "[encoded data removed]",
            "text/plain": [
              "<IPython.core.display.Image object>"
            ]
          },
          "metadata": {
            "tags": []
          },
          "execution_count": 8
        }
      ]
    },
    {
      "cell_type": "code",
      "metadata": {
        "id": "_IluW2TFp3Dn"
      },
      "source": [
        "model.compile(optimizer='adam',\n",
        "              loss='sparse_categorical_crossentropy',\n",
        "              metrics=['accuracy'])"
      ],
      "execution_count": 12,
      "outputs": []
    },
    {
      "cell_type": "code",
      "metadata": {
        "colab": {
          "base_uri": "https://localhost:8080/"
        },
        "id": "YX4V3IGcp45q",
        "outputId": "702d88be-1260-4651-fd82-8c45b0c1da07"
      },
      "source": [
        "model.fit(train_images, train_labels, epochs=30, validation_data=(train_images, train_labels), batch_size=1024)"
      ],
      "execution_count": 13,
      "outputs": [
        {
          "output_type": "stream",
          "text": [
            "Epoch 1/30\n",
            "49/49 [==============================] - 1s 9ms/step - loss: 0.1713 - accuracy: 0.9663 - val_loss: 0.1025 - val_accuracy: 0.9768\n",
            "Epoch 2/30\n",
            "49/49 [==============================] - 0s 6ms/step - loss: 0.1287 - accuracy: 0.9736 - val_loss: 0.0813 - val_accuracy: 0.9813\n",
            "Epoch 3/30\n",
            "49/49 [==============================] - 0s 5ms/step - loss: 0.0917 - accuracy: 0.9792 - val_loss: 0.0778 - val_accuracy: 0.9808\n",
            "Epoch 4/30\n",
            "49/49 [==============================] - 0s 6ms/step - loss: 0.0776 - accuracy: 0.9816 - val_loss: 0.0471 - val_accuracy: 0.9874\n",
            "Epoch 5/30\n",
            "49/49 [==============================] - 0s 6ms/step - loss: 0.0512 - accuracy: 0.9865 - val_loss: 0.0417 - val_accuracy: 0.9891\n",
            "Epoch 6/30\n",
            "49/49 [==============================] - 0s 7ms/step - loss: 0.0572 - accuracy: 0.9862 - val_loss: 0.0438 - val_accuracy: 0.9889\n",
            "Epoch 7/30\n",
            "49/49 [==============================] - 0s 5ms/step - loss: 0.0410 - accuracy: 0.9893 - val_loss: 0.0280 - val_accuracy: 0.9915\n",
            "Epoch 8/30\n",
            "49/49 [==============================] - 0s 6ms/step - loss: 0.0407 - accuracy: 0.9893 - val_loss: 0.0246 - val_accuracy: 0.9925\n",
            "Epoch 9/30\n",
            "49/49 [==============================] - 0s 6ms/step - loss: 0.0401 - accuracy: 0.9897 - val_loss: 0.0292 - val_accuracy: 0.9922\n",
            "Epoch 10/30\n",
            "49/49 [==============================] - 0s 7ms/step - loss: 0.0430 - accuracy: 0.9892 - val_loss: 0.0245 - val_accuracy: 0.9934\n",
            "Epoch 11/30\n",
            "49/49 [==============================] - 0s 6ms/step - loss: 0.0325 - accuracy: 0.9917 - val_loss: 0.0342 - val_accuracy: 0.9908\n",
            "Epoch 12/30\n",
            "49/49 [==============================] - 0s 6ms/step - loss: 0.0352 - accuracy: 0.9909 - val_loss: 0.0302 - val_accuracy: 0.9929\n",
            "Epoch 13/30\n",
            "49/49 [==============================] - 0s 6ms/step - loss: 0.0503 - accuracy: 0.9885 - val_loss: 0.0745 - val_accuracy: 0.9839\n",
            "Epoch 14/30\n",
            "49/49 [==============================] - 0s 5ms/step - loss: 0.0468 - accuracy: 0.9892 - val_loss: 0.0256 - val_accuracy: 0.9933\n",
            "Epoch 15/30\n",
            "49/49 [==============================] - 0s 5ms/step - loss: 0.0341 - accuracy: 0.9910 - val_loss: 0.0205 - val_accuracy: 0.9941\n",
            "Epoch 16/30\n",
            "49/49 [==============================] - 0s 6ms/step - loss: 0.0181 - accuracy: 0.9949 - val_loss: 0.0096 - val_accuracy: 0.9970\n",
            "Epoch 17/30\n",
            "49/49 [==============================] - 0s 6ms/step - loss: 0.0166 - accuracy: 0.9953 - val_loss: 0.0086 - val_accuracy: 0.9972\n",
            "Epoch 18/30\n",
            "49/49 [==============================] - 0s 6ms/step - loss: 0.0163 - accuracy: 0.9955 - val_loss: 0.0157 - val_accuracy: 0.9956\n",
            "Epoch 19/30\n",
            "49/49 [==============================] - 0s 6ms/step - loss: 0.0177 - accuracy: 0.9950 - val_loss: 0.0142 - val_accuracy: 0.9959\n",
            "Epoch 20/30\n",
            "49/49 [==============================] - 0s 6ms/step - loss: 0.0186 - accuracy: 0.9951 - val_loss: 0.0148 - val_accuracy: 0.9955\n",
            "Epoch 21/30\n",
            "49/49 [==============================] - 0s 6ms/step - loss: 0.0120 - accuracy: 0.9965 - val_loss: 0.0134 - val_accuracy: 0.9962\n",
            "Epoch 22/30\n",
            "49/49 [==============================] - 0s 6ms/step - loss: 0.0127 - accuracy: 0.9964 - val_loss: 0.0180 - val_accuracy: 0.9953\n",
            "Epoch 23/30\n",
            "49/49 [==============================] - 0s 6ms/step - loss: 0.0143 - accuracy: 0.9962 - val_loss: 0.0131 - val_accuracy: 0.9963\n",
            "Epoch 24/30\n",
            "49/49 [==============================] - 0s 5ms/step - loss: 0.0168 - accuracy: 0.9955 - val_loss: 0.0108 - val_accuracy: 0.9970\n",
            "Epoch 25/30\n",
            "49/49 [==============================] - 0s 6ms/step - loss: 0.0251 - accuracy: 0.9939 - val_loss: 0.0282 - val_accuracy: 0.9934\n",
            "Epoch 26/30\n",
            "49/49 [==============================] - 0s 7ms/step - loss: 0.0388 - accuracy: 0.9912 - val_loss: 0.0392 - val_accuracy: 0.9914\n",
            "Epoch 27/30\n",
            "49/49 [==============================] - 0s 5ms/step - loss: 0.0277 - accuracy: 0.9937 - val_loss: 0.0159 - val_accuracy: 0.9959\n",
            "Epoch 28/30\n",
            "49/49 [==============================] - 0s 6ms/step - loss: 0.0257 - accuracy: 0.9939 - val_loss: 0.0194 - val_accuracy: 0.9951\n",
            "Epoch 29/30\n",
            "49/49 [==============================] - 0s 6ms/step - loss: 0.0188 - accuracy: 0.9955 - val_loss: 0.0162 - val_accuracy: 0.9958\n",
            "Epoch 30/30\n",
            "49/49 [==============================] - 0s 6ms/step - loss: 0.0150 - accuracy: 0.9963 - val_loss: 0.0110 - val_accuracy: 0.9972\n"
          ],
          "name": "stdout"
        },
        {
          "output_type": "execute_result",
          "data": {
            "text/plain": [
              "<tensorflow.python.keras.callbacks.History at 0x7f23aa5e9490>"
            ]
          },
          "metadata": {
            "tags": []
          },
          "execution_count": 13
        }
      ]
    },
    {
      "cell_type": "code",
      "metadata": {
        "colab": {
          "base_uri": "https://localhost:8080/"
        },
        "id": "a7yreL4Mp6Zt",
        "outputId": "97854785-6db1-4ded-bad4-306984a0c033"
      },
      "source": [
        "test_loss, test_acc = model.evaluate(test_images,  test_labels, verbose=2)\n",
        "\n",
        "print('\\n테스트 정확도:', test_acc)"
      ],
      "execution_count": 14,
      "outputs": [
        {
          "output_type": "stream",
          "text": [
            "313/313 - 0s - loss: 0.5153 - accuracy: 0.9646\n",
            "\n",
            "테스트 정확도: 0.9646000266075134\n"
          ],
          "name": "stdout"
        }
      ]
    },
    {
      "cell_type": "code",
      "metadata": {
        "colab": {
          "base_uri": "https://localhost:8080/",
          "height": 265
        },
        "id": "i-U5AYk_S6d6",
        "outputId": "35faf590-b80c-4468-ce1d-b70ef9b32f1f"
      },
      "source": [
        "plt.figure()\n",
        "plt.imshow(test_images[0])\n",
        "plt.colorbar()\n",
        "plt.grid(False)\n",
        "plt.show()"
      ],
      "execution_count": 15,
      "outputs": [
        {
          "output_type": "display_data",
          "data": {
            "image/png": "[encoded data removed]",
            "text/plain": [
              "<Figure size 432x288 with 2 Axes>"
            ]
          },
          "metadata": {
            "tags": [],
            "needs_background": "light"
          }
        }
      ]
    },
    {
      "cell_type": "code",
      "metadata": {
        "id": "c6BzZrYdqAi6",
        "colab": {
          "base_uri": "https://localhost:8080/"
        },
        "outputId": "2f07fa74-c57f-4759-e137-91abcbbf7037"
      },
      "source": [
        "predictions = model.predict(test_images[:1, :, :])\n",
        "print(predictions)"
      ],
      "execution_count": 16,
      "outputs": [
        {
          "output_type": "stream",
          "text": [
            "[[0.0000000e+00 0.0000000e+00 1.8672607e-32 1.1846864e-25 0.0000000e+00\n",
            "  0.0000000e+00 0.0000000e+00 1.0000000e+00 0.0000000e+00 0.0000000e+00]]\n"
          ],
          "name": "stdout"
        }
      ]
    },
    {
      "cell_type": "code",
      "metadata": {
        "colab": {
          "base_uri": "https://localhost:8080/"
        },
        "id": "cSmLyny8SIA5",
        "outputId": "ca474e45-e0ef-415a-8b53-9d6c16e16ef3"
      },
      "source": [
        "np.argmax(predictions)"
      ],
      "execution_count": 17,
      "outputs": [
        {
          "output_type": "execute_result",
          "data": {
            "text/plain": [
              "7"
            ]
          },
          "metadata": {
            "tags": []
          },
          "execution_count": 17
        }
      ]
    },
    {
      "cell_type": "code",
      "metadata": {
        "colab": {
          "base_uri": "https://localhost:8080/"
        },
        "id": "DJra-lyue1RW",
        "outputId": "e112e792-4ff2-4985-f6d6-999599f9c4ec"
      },
      "source": [
        "print(test_images[0, :, :].shape)"
      ],
      "execution_count": 18,
      "outputs": [
        {
          "output_type": "stream",
          "text": [
            "(28, 28)\n"
          ],
          "name": "stdout"
        }
      ]
    },
    {
      "cell_type": "code",
      "metadata": {
        "id": "rN5vcLQArMqs"
      },
      "source": [
        "model.save('mnist_dkdk_FP32_20170708_v1.h5')"
      ],
      "execution_count": 32,
      "outputs": []
    },
    {
      "cell_type": "code",
      "metadata": {
        "id": "PP06MH1I6_Qe"
      },
      "source": [
        ""
      ],
      "execution_count": 32,
      "outputs": []
    },
    {
      "cell_type": "code",
      "metadata": {
        "colab": {
          "base_uri": "https://localhost:8080/"
        },
        "id": "0Z5pHGaY6Xgn",
        "outputId": "c4381c28-050b-4771-8413-d885617adad7"
      },
      "source": [
        "import cv2\n",
        "\n",
        "for i in range(10):\n",
        "    inp = cv2.imread('{}.png'.format(i), cv2.IMREAD_GRAYSCALE)\n",
        "    inp = inp.reshape(1, 28, 28)\n",
        "    print(inp.shape)\n",
        "    predictions = model.predict(inp)\n",
        "    print('==', i, '==')\n",
        "    print(predictions)\n",
        "    print(np.argmax(predictions))"
      ],
      "execution_count": 43,
      "outputs": [
        {
          "output_type": "stream",
          "text": [
            "(1, 28, 28)\n",
            "== 0 ==\n",
            "[[1.0000000e+00 0.0000000e+00 3.3974477e-26 0.0000000e+00 0.0000000e+00\n",
            "  0.0000000e+00 0.0000000e+00 0.0000000e+00 0.0000000e+00 1.6024496e-25]]\n",
            "0\n",
            "(1, 28, 28)\n",
            "== 1 ==\n",
            "[[0.0000000e+00 1.0000000e+00 5.3088872e-26 2.9026112e-34 5.6169461e-15\n",
            "  1.1430732e-30 7.3222651e-25 0.0000000e+00 7.9106371e-27 1.0473790e-31]]\n",
            "1\n",
            "(1, 28, 28)\n",
            "== 2 ==\n",
            "[[0.0000000e+00 4.5906898e-27 1.0000000e+00 9.2746137e-35 0.0000000e+00\n",
            "  0.0000000e+00 0.0000000e+00 1.4511191e-27 0.0000000e+00 0.0000000e+00]]\n",
            "2\n",
            "(1, 28, 28)\n",
            "== 3 ==\n",
            "[[0. 0. 0. 1. 0. 0. 0. 0. 0. 0.]]\n",
            "3\n",
            "(1, 28, 28)\n",
            "== 4 ==\n",
            "[[0.0000000e+00 0.0000000e+00 0.0000000e+00 0.0000000e+00 1.0000000e+00\n",
            "  1.6995763e-25 5.1762853e-32 1.1409783e-29 2.2797794e-28 3.1332357e-09]]\n",
            "4\n",
            "(1, 28, 28)\n",
            "== 5 ==\n",
            "[[0.0000000e+00 0.0000000e+00 1.9428405e-36 7.1902852e-11 0.0000000e+00\n",
            "  1.0000000e+00 0.0000000e+00 0.0000000e+00 8.1929473e-33 8.9462241e-21]]\n",
            "5\n",
            "(1, 28, 28)\n",
            "== 6 ==\n",
            "[[3.1443237e-16 0.0000000e+00 0.0000000e+00 1.2406333e-30 2.7327136e-37\n",
            "  6.6898082e-15 1.0000000e+00 0.0000000e+00 2.5567912e-19 6.4629776e-35]]\n",
            "6\n",
            "(1, 28, 28)\n",
            "== 7 ==\n",
            "[[0.0000000e+00 0.0000000e+00 3.1542929e-25 8.6911078e-37 0.0000000e+00\n",
            "  0.0000000e+00 0.0000000e+00 1.0000000e+00 0.0000000e+00 0.0000000e+00]]\n",
            "7\n",
            "(1, 28, 28)\n",
            "== 8 ==\n",
            "[[0.0000000e+00 0.0000000e+00 8.6707702e-24 3.9084325e-23 9.7409250e-32\n",
            "  1.5848219e-16 0.0000000e+00 0.0000000e+00 9.9962664e-01 3.7334600e-04]]\n",
            "8\n",
            "(1, 28, 28)\n",
            "== 9 ==\n",
            "[[0.0000000e+00 0.0000000e+00 4.8917112e-25 2.5949764e-18 2.7355192e-22\n",
            "  4.9362284e-26 0.0000000e+00 4.3039797e-25 1.2090622e-17 1.0000000e+00]]\n",
            "9\n"
          ],
          "name": "stdout"
        }
      ]
    },
    {
      "cell_type": "code",
      "metadata": {
        "id": "lKMOwCS76uhE"
      },
      "source": [
        ""
      ],
      "execution_count": null,
      "outputs": []
    }
  ]
}